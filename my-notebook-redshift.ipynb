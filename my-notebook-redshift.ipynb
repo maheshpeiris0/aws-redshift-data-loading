{
	"cells": [
		{
			"cell_type": "markdown",
			"metadata": {
				"editable": true,
				"tags": [],
				"trusted": true
			},
			"source": [
				"# AWS Glue Studio Notebook\n",
				"##### You are now running a AWS Glue Studio notebook; To start using your notebook you need to start an AWS Glue Interactive Session.\n"
			]
		},
		{
			"cell_type": "markdown",
			"metadata": {
				"editable": true,
				"trusted": true
			},
			"source": [
				"#### Optional: Run this cell to see available notebook commands (\"magics\").\n"
			]
		},
		{
			"cell_type": "code",
			"execution_count": 6,
			"metadata": {
				"editable": true,
				"trusted": true,
				"vscode": {
					"languageId": "python_glue_session"
				}
			},
			"outputs": [
				{
					"data": {
						"text/markdown": [
							"\n",
							"# Available Magic Commands\n",
							"\n",
							"## Sessions Magic\n",
							"\n",
							"----\n",
							"    %help                             Return a list of descriptions and input types for all magic commands. \n",
							"    %profile            String        Specify a profile in your aws configuration to use as the credentials provider.\n",
							"    %region             String        Specify the AWS region in which to initialize a session. \n",
							"                                      Default from ~/.aws/config on Linux or macOS, \n",
							"                                      or C:\\Users\\ USERNAME \\.aws\\config\" on Windows.\n",
							"    %idle_timeout       Int           The number of minutes of inactivity after which a session will timeout. \n",
							"                                      Default: 2880 minutes (48 hours).\n",
							"    %session_id_prefix  String        Define a String that will precede all session IDs in the format \n",
							"                                      [session_id_prefix]-[session_id]. If a session ID is not provided,\n",
							"                                      a random UUID will be generated.\n",
							"    %status                           Returns the status of the current Glue session including its duration, \n",
							"                                      configuration and executing user / role.\n",
							"    %session_id                       Returns the session ID for the running session. \n",
							"    %list_sessions                    Lists all currently running sessions by ID.\n",
							"    %stop_session                     Stops the current session.\n",
							"    %glue_version       String        The version of Glue to be used by this session. \n",
							"                                      Currently, the only valid options are 2.0 and 3.0. \n",
							"                                      Default: 2.0.\n",
							"----\n",
							"\n",
							"## Selecting Job Types\n",
							"\n",
							"----\n",
							"    %streaming          String        Sets the session type to Glue Streaming.\n",
							"    %etl                String        Sets the session type to Glue ETL.\n",
							"    %glue_ray           String        Sets the session type to Glue Ray.\n",
							"----\n",
							"\n",
							"## Glue Config Magic \n",
							"*(common across all job types)*\n",
							"\n",
							"----\n",
							"\n",
							"    %%configure         Dictionary    A json-formatted dictionary consisting of all configuration parameters for \n",
							"                                      a session. Each parameter can be specified here or through individual magics.\n",
							"    %iam_role           String        Specify an IAM role ARN to execute your session with.\n",
							"                                      Default from ~/.aws/config on Linux or macOS, \n",
							"                                      or C:\\Users\\%USERNAME%\\.aws\\config` on Windows.\n",
							"    %number_of_workers  int           The number of workers of a defined worker_type that are allocated \n",
							"                                      when a session runs.\n",
							"                                      Default: 5.\n",
							"    %additional_python_modules  List  Comma separated list of additional Python modules to include in your cluster \n",
							"                                      (can be from Pypi or S3).\n",
							"----\n",
							"\n",
							"                                      \n",
							"## Magic for Spark Jobs (ETL & Streaming)\n",
							"\n",
							"----\n",
							"    %worker_type        String        Set the type of instances the session will use as workers. \n",
							"                                      ETL and Streaming support G.1X, G.2X, G.4X and G.8X. \n",
							"                                      Default: G.1X.\n",
							"    %connections        List          Specify a comma separated list of connections to use in the session.\n",
							"    %extra_py_files     List          Comma separated list of additional Python files From S3.\n",
							"    %extra_jars         List          Comma separated list of additional Jars to include in the cluster.\n",
							"    %spark_conf         String        Specify custom spark configurations for your session. \n",
							"                                      E.g. %spark_conf spark.serializer=org.apache.spark.serializer.KryoSerializer\n",
							"----\n",
							"                                      \n",
							"## Magic for Ray Job\n",
							"\n",
							"----\n",
							"    %min_workers        Int           The minimum number of workers that are allocated to a Ray job. \n",
							"                                      Default: 1.\n",
							"    %object_memory_head Int           The percentage of free memory on the instance head node after a warm start. \n",
							"                                      Minimum: 0. Maximum: 100.\n",
							"    %object_memory_worker Int         The percentage of free memory on the instance worker nodes after a warm start. \n",
							"                                      Minimum: 0. Maximum: 100.\n",
							"----\n",
							"\n",
							"## Action Magic\n",
							"\n",
							"----\n",
							"\n",
							"    %%sql               String        Run SQL code. All lines after the initial %%sql magic will be passed\n",
							"                                      as part of the SQL code.  \n",
							"----\n",
							"\n"
						]
					},
					"metadata": {},
					"output_type": "display_data"
				}
			],
			"source": [
				"%help"
			]
		},
		{
			"cell_type": "code",
			"execution_count": 12,
			"metadata": {
				"trusted": true,
				"vscode": {
					"languageId": "python_glue_session"
				}
			},
			"outputs": [],
			"source": [
				"%magic --TempDir s3://folder/temporary/"
			]
		},
		{
			"cell_type": "markdown",
			"metadata": {
				"editable": true,
				"trusted": true
			},
			"source": [
				"####  Run this cell to set up and start your interactive session.\n"
			]
		},
		{
			"cell_type": "code",
			"execution_count": 1,
			"metadata": {
				"editable": true,
				"trusted": true,
				"vscode": {
					"languageId": "python_glue_session"
				}
			},
			"outputs": [
				{
					"name": "stdout",
					"output_type": "stream",
					"text": [
						"Welcome to the Glue Interactive Sessions Kernel\n",
						"For more information on available magic commands, please type %help in any new cell.\n",
						"\n",
						"Please view our Getting Started page to access the most up-to-date information on the Interactive Sessions kernel: https://docs.aws.amazon.com/glue/latest/dg/interactive-sessions.html\n",
						"Installed kernel version: 0.37.3 \n",
						"Current idle_timeout is 2800 minutes.\n",
						"idle_timeout has been set to 2880 minutes.\n",
						"Setting Glue version to: 3.0\n",
						"Previous worker type: G.1X\n",
						"Setting new worker type to: G.1X\n",
						"Previous number of workers: 5\n",
						"Setting new number of workers to: 2\n",
						"Connections to be included:\n",
						"new_notebook_may_2023\n",
						"Authenticating with environment variables and user-defined glue_role_arn: arn:aws:iam::681419469698:role/mp-glue-role\n",
						"Trying to create a Glue session for the kernel.\n",
						"Worker Type: G.1X\n",
						"Number of Workers: 2\n",
						"Session ID: d422919c-c6da-4fd5-9024-9c89a31d7c3f\n",
						"Job Type: glueetl\n",
						"Applying the following default arguments:\n",
						"--glue_kernel_version 0.37.3\n",
						"--enable-glue-datacatalog true\n",
						"Waiting for session d422919c-c6da-4fd5-9024-9c89a31d7c3f to get into ready status...\n",
						"Session d422919c-c6da-4fd5-9024-9c89a31d7c3f has been created.\n",
						"\n"
					]
				}
			],
			"source": [
				"%idle_timeout 2880\n",
				"%glue_version 3.0\n",
				"%worker_type G.1X\n",
				"%number_of_workers 2\n",
				"%connections new_notebook_may_2023  # name of the connection to use\n",
				"\n",
				"import sys\n",
				"from awsglue.transforms import *\n",
				"from awsglue.utils import getResolvedOptions\n",
				"from pyspark.context import SparkContext\n",
				"from awsglue.context import GlueContext\n",
				"from awsglue.job import Job\n",
				"  \n",
				"sc = SparkContext.getOrCreate()\n",
				"glueContext = GlueContext(sc)\n",
				"spark = glueContext.spark_session\n",
				"job = Job(glueContext)"
			]
		},
		{
			"cell_type": "markdown",
			"metadata": {
				"editable": true,
				"trusted": true
			},
			"source": [
				"#### Example: Create a DynamicFrame from a table in the AWS Glue Data Catalog and display its schema\n"
			]
		},
		{
			"cell_type": "code",
			"execution_count": null,
			"metadata": {
				"editable": true,
				"trusted": true,
				"vscode": {
					"languageId": "python_glue_session"
				}
			},
			"outputs": [],
			"source": [
				"# dyf = glueContext.create_dynamic_frame.from_catalog(database='database_name', table_name='table_name')\n",
				"# dyf.printSchema()"
			]
		},
		{
			"cell_type": "markdown",
			"metadata": {},
			"source": [
				"# load data from s3"
			]
		},
		{
			"cell_type": "code",
			"execution_count": 2,
			"metadata": {
				"trusted": true,
				"vscode": {
					"languageId": "python_glue_session"
				}
			},
			"outputs": [
				{
					"name": "stdout",
					"output_type": "stream",
					"text": [
						"\n"
					]
				}
			],
			"source": [
				"df = glueContext.create_dynamic_frame.from_options(\n",
				"    connection_type=\"s3\",\n",
				"    connection_options={\"paths\": [\"s3://bucket_name/folder_name/file_name.parquet\"]},\n",
				"    format=\"parquet\"\n",
				")"
			]
		},
		{
			"cell_type": "code",
			"execution_count": 3,
			"metadata": {
				"trusted": true,
				"vscode": {
					"languageId": "python_glue_session"
				}
			},
			"outputs": [
				{
					"name": "stdout",
					"output_type": "stream",
					"text": [
						"\n"
					]
				}
			],
			"source": [
				"df = df.toDF()"
			]
		},
		{
			"cell_type": "code",
			"execution_count": 5,
			"metadata": {
				"trusted": true,
				"vscode": {
					"languageId": "python_glue_session"
				}
			},
			"outputs": [
				{
					"name": "stdout",
					"output_type": "stream",
					"text": [
						"+--------------------+----------+----------+---------------+------------------+-------------+--------------+-----------+--------------+------------+---------+--------+---------+--------------+-------------------+---------------------------------+------------------------+-------------------------------+----------------------+--------------------------+----------------------------+--------------------+-------------------+----------------------------+-------------------------+----------------+-----------------+\n",
						"|               legId|searchDate|flightDate|startingAirport|destinationAirport|fareBasisCode|travelDuration|elapsedDays|isBasicEconomy|isRefundable|isNonStop|baseFare|totalFare|seatsRemaining|totalTravelDistance|segmentsDepartureTimeEpochSeconds|segmentsDepartureTimeRaw|segmentsArrivalTimeEpochSeconds|segmentsArrivalTimeRaw|segmentsArrivalAirportCode|segmentsDepartureAirportCode| segmentsAirlineName|segmentsAirlineCode|segmentsEquipmentDescription|segmentsDurationInSeconds|segmentsDistance|segmentsCabinCode|\n",
						"+--------------------+----------+----------+---------------+------------------+-------------+--------------+-----------+--------------+------------+---------+--------+---------+--------------+-------------------+---------------------------------+------------------------+-------------------------------+----------------------+--------------------------+----------------------------+--------------------+-------------------+----------------------------+-------------------------+----------------+-----------------+\n",
						"|b86c4c950ef549dab...|2022-10-01|2022-11-01|            SFO|               ORD|     TAK2JQBS|       PT6H13M|          0|          True|       False|    False|  152.56|   187.60|             9|               1857|             1667332800||16673...|    2022-11-01T13:00:...|           1667342040||16673...|  2022-11-01T16:34:...|                  DEN||ORD|                    SFO||DEN|      United||United|             UA||UA|        Boeing 777||Boein...|               9240||8280|        954||903|     coach||coach|\n",
						"|17bc1d21edd7717df...|2022-10-01|2022-10-31|            BOS|               CLT|     QUAWZNN1|        PT7H5M|          0|         False|       False|    False|  295.81|   341.60|             7|                729|             1667239200||16672...|    2022-10-31T14:00:...|           1667243820||16672...|  2022-10-31T15:17:...|                  LGA||CLT|                    BOS||LGA|JetBlue Airways||...|             B6||B6|        Embraer 190||Airb...|               4620||7560|        186||543|     coach||coach|\n",
						"+--------------------+----------+----------+---------------+------------------+-------------+--------------+-----------+--------------+------------+---------+--------+---------+--------------+-------------------+---------------------------------+------------------------+-------------------------------+----------------------+--------------------------+----------------------------+--------------------+-------------------+----------------------------+-------------------------+----------------+-----------------+\n",
						"only showing top 2 rows\n"
					]
				}
			],
			"source": [
				"df.show(2)"
			]
		},
		{
			"cell_type": "code",
			"execution_count": 6,
			"metadata": {
				"trusted": true,
				"vscode": {
					"languageId": "python_glue_session"
				}
			},
			"outputs": [
				{
					"name": "stdout",
					"output_type": "stream",
					"text": [
						"\n"
					]
				}
			],
			"source": [
				"from awsglue.dynamicframe import DynamicFrame"
			]
		},
		{
			"cell_type": "code",
			"execution_count": 7,
			"metadata": {
				"trusted": true,
				"vscode": {
					"languageId": "python_glue_session"
				}
			},
			"outputs": [
				{
					"name": "stdout",
					"output_type": "stream",
					"text": [
						"\n"
					]
				}
			],
			"source": [
				"dynamic_df = DynamicFrame.fromDF(df, glueContext, \"test_nest\")\n"
			]
		},
		{
			"cell_type": "markdown",
			"metadata": {},
			"source": [
				"# Redshift connections"
			]
		},
		{
			"cell_type": "code",
			"execution_count": 8,
			"metadata": {
				"trusted": true,
				"vscode": {
					"languageId": "python_glue_session"
				}
			},
			"outputs": [
				{
					"name": "stdout",
					"output_type": "stream",
					"text": [
						"\n"
					]
				}
			],
			"source": [
				"my_conn_options = {\n",
				"    \"dbtable\": \"public.flight_data\",\n",
				"    \"database\": \"dev\"\n",
				"}\n",
				"\n",
				"glueContext.write_dynamic_frame.from_jdbc_conf(\n",
				"    frame=dynamic_df,\n",
				"    catalog_connection=\"new_notebook_may_2023\",\n",
				"    connection_options=my_conn_options,\n",
				"    redshift_tmp_dir=\"s3://bucket_name/folder_name/\" #temporary directory for Redshift COPY command\n",
				")"
			]
		},
		{
			"cell_type": "markdown",
			"metadata": {
				"editable": true,
				"trusted": true
			},
			"source": [
				"#### Example: Convert the DynamicFrame to a Spark DataFrame and display a sample of the data\n"
			]
		},
		{
			"cell_type": "code",
			"execution_count": null,
			"metadata": {
				"editable": true,
				"trusted": true,
				"vscode": {
					"languageId": "python_glue_session"
				}
			},
			"outputs": [],
			"source": [
				"df = dyf.toDF()\n",
				"df.show()"
			]
		},
		{
			"cell_type": "code",
			"execution_count": null,
			"metadata": {
				"vscode": {
					"languageId": "python_glue_session"
				}
			},
			"outputs": [],
			"source": [
				"# glueContext.write_dynamic_frame.from_options(\n",
				"#     frame=df,\n",
				"#     connection_type=\"s3\",\n",
				"#     connection_options={\"path\": \"s3://your-bucket-name/path/to/output/folder/\"},\n",
				"#     format=\"parquet\"\n",
				"# )"
			]
		},
		{
			"cell_type": "code",
			"execution_count": null,
			"metadata": {
				"vscode": {
					"languageId": "python_glue_session"
				}
			},
			"outputs": [],
			"source": [
				"# dyf = glueContext.create_dynamic_frame.from_catalog(database='database_name', table_name='table_name')\n",
				"# dyf.printSchema()"
			]
		}
	],
	"metadata": {
		"kernelspec": {
			"display_name": "Glue PySpark",
			"language": "python",
			"name": "glue_pyspark"
		},
		"language_info": {
			"codemirror_mode": {
				"name": "python",
				"version": 3
			},
			"file_extension": ".py",
			"mimetype": "text/x-python",
			"name": "Python_Glue_Session",
			"pygments_lexer": "python3"
		}
	},
	"nbformat": 4,
	"nbformat_minor": 4
}
